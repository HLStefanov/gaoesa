{
  "nbformat": 4,
  "nbformat_minor": 0,
  "metadata": {
    "colab": {
      "provenance": []
    },
    "kernelspec": {
      "name": "python3",
      "display_name": "Python 3"
    },
    "language_info": {
      "name": "python"
    }
  },
  "cells": [
    {
      "cell_type": "code",
      "source": [
        "import random as r;\n",
        "import numpy as np;\n",
        "import copy as c;\n",
        "from google.colab import files;\n",
        "import pandas as pd;\n",
        "from multiprocessing.pool import ThreadPool;\n",
        "import multiprocessing as mp;"
      ],
      "metadata": {
        "id": "F7MMH0nqUQEf"
      },
      "execution_count": 3,
      "outputs": []
    },
    {
      "cell_type": "code",
      "source": [
        "def element_is_found(arr, el):\n",
        "  for i in range(0,len(arr)):\n",
        "    if(el == arr[i]):\n",
        "      return True;\n",
        "  return False;"
      ],
      "metadata": {
        "id": "AsC430HQ7Slr"
      },
      "execution_count": 6,
      "outputs": []
    },
    {
      "cell_type": "code",
      "source": [
        "def generate_genes(state_data):\n",
        "  arr = [];\n",
        "  sample = list(range(0,state_data[2].shape[0]));\n",
        "\n",
        "  for i in range(0,state_data[0].shape[0]):\n",
        "    el = np.random.choice(sample);\n",
        "    arr.append(el);\n",
        "    sample.remove(el);\n",
        "\n",
        "  return arr;"
      ],
      "metadata": {
        "id": "UH7n7rbR7XP0"
      },
      "execution_count": 8,
      "outputs": []
    },
    {
      "cell_type": "code",
      "source": [
        "def model(params, state_data, chromosomes, is_test):\n",
        "  \n",
        "  (population, generations, crossover, mutation, alive) = params\n",
        "  #get dimension size and use it to count chromosome elements\n",
        "  genes_count = state_data[0].shape[0]\n",
        "\n",
        "  for m in range(0,generations):\n",
        "   chromosomes.sort(key=lambda a: a[1]);\n",
        "   if m == generations-1 and not is_test:\n",
        "     return chromosomes[0:alive];\n",
        "   elif m == generations-1 and is_test:\n",
        "      return chromosomes\n",
        "   chromosomes = chromosomes[0:alive];\n",
        "\n",
        "   new_chromosomes = [];\n",
        "   for j in range (0, int(population - alive)):    \n",
        "     child_gen = np.zeros((genes_count), dtype=int);\n",
        "\n",
        "     gene_range = list(range(0,genes_count));\n",
        "     father = chromosomes[np.random.choice(list(range(0,alive)))];\n",
        "     mother = chromosomes[np.random.choice(list(range(0,alive)))];\n",
        "     \n",
        "     father_gen = c.deepcopy(father[0]);\n",
        "     mother_gen = c.deepcopy(mother[0]);\n",
        "\n",
        "     for k in range(0,crossover):\n",
        "       cross_gen = np.random.choice(gene_range);\n",
        "       child_gen[cross_gen] = father_gen[cross_gen];\n",
        "       mother_gen[cross_gen] = 0;\n",
        "       gene_range.remove(cross_gen);\n",
        "\n",
        "     child_gen = np.add(mother_gen,child_gen);\n",
        "\n",
        "     for i in range(0,mutation):\n",
        "      should_mutate = bool(r.getrandbits(1))\n",
        "    \n",
        "      if should_mutate:\n",
        "       gene_range_mutate = list(range(0,genes_count));\n",
        "      \n",
        "       cross_gen_first = np.random.choice(gene_range_mutate);\n",
        "       gene_range_mutate.remove(cross_gen_first);\n",
        "       cross_gen_second = np.random.choice(gene_range_mutate);\n",
        "      \n",
        "       placeholder = child_gen[cross_gen_first];\n",
        "       child_gen[cross_gen_first] = child_gen[cross_gen_second];\n",
        "       child_gen[cross_gen_second] = placeholder;\n",
        "\n",
        "     child = create_chromosome(generate_chromosome, child_gen, state_data);\n",
        "     new_chromosomes.append(child);\n",
        "   chromosomes = [*chromosomes, *new_chromosomes]\n",
        "  return chromosomes;"
      ],
      "metadata": {
        "id": "5rdHWxzl7mGI"
      },
      "execution_count": 9,
      "outputs": []
    },
    {
      "cell_type": "code",
      "source": [
        "def create_chromosome(gen_chr, genes, state_data): \n",
        "  if gen_chr != None:\n",
        "    return gen_chr(genes, state_data);\n",
        "  return [];  "
      ],
      "metadata": {
        "id": "xV77d_Cq81fZ"
      },
      "execution_count": 10,
      "outputs": []
    },
    {
      "cell_type": "code",
      "source": [
        "def generate_chromosome(genes, state_data):\n",
        "    (adjacent_nodes, binary_tuple_digits, hamming_distances) = state_data;\n",
        "    fitness_value = 0;\n",
        "    chromosome_genes = c.deepcopy(genes);\n",
        "    if len(set(chromosome_genes)) != len(chromosome_genes):\n",
        "        fitness_value = 100000;\n",
        "    if fitness_value == 0:\n",
        "      for i in range(0,len(chromosome_genes)):\n",
        "        for j in range(0,len(chromosome_genes)):\n",
        "          fitness_value = fitness_value + adjacent_nodes[i][j] * hamming_distances[chromosome_genes[i]][chromosome_genes[j]];\n",
        "    return (np.array(chromosome_genes), fitness_value);"
      ],
      "metadata": {
        "id": "q-1eNBva-Hgz"
      },
      "execution_count": 11,
      "outputs": []
    },
    {
      "cell_type": "code",
      "source": [
        "def generate_population(population, state_data):\n",
        " chromosomes = [];\n",
        " for j in range(0,population):\n",
        "    chr = create_chromosome(generate_chromosome, generate_genes(state_data), state_data);\n",
        "    chromosomes.append(chr);\n",
        " return chromosomes;"
      ],
      "metadata": {
        "id": "rVMnv7FgCOZN"
      },
      "execution_count": 12,
      "outputs": []
    },
    {
      "cell_type": "code",
      "source": [
        "def result_to_csv(results):\n",
        " data, adjacency_graph = results ;\n",
        " binary_list = [];\n",
        " labels = []\n",
        "\n",
        " for i in range(0,len(data)):\n",
        "   labels.append(\"a\" + str(i) + \"=\");\n",
        "   binary_list.append(bin(data[i])[2:].zfill(state_generator(adjacency_graph)[1]));\n",
        " a1 = np.array(labels)\n",
        " a2 = np.array(data)\n",
        " a3 = np.array(binary_list)\n",
        " a1_column = np.reshape(a1, (-1, 1))\n",
        " a2_column = np.reshape(a2, (-1, 1))\n",
        " a3_column = np.reshape(a3, (-1, 1))\n",
        "\n",
        " matrix = np.concatenate((a1_column, a2_column, a3_column), axis=1)\n",
        " df = pd.DataFrame(matrix, columns=None)\n",
        " styled_df = df.style.hide_index().hide_columns()\n",
        "\n",
        " display(styled_df)\n",
        "\n",
        " #styled_df.to_excel('results.xlsx', index=False)\n",
        " #files.download('results.xlsx')"
      ],
      "metadata": {
        "id": "cayZwf8Usn6e"
      },
      "execution_count": 13,
      "outputs": []
    },
    {
      "cell_type": "code",
      "source": [
        "def list_binary_rep(n):\n",
        "  seed = \"\"\n",
        "  end = \"\"\n",
        "  result = []\n",
        "  \n",
        "  for i in range(0,n):\n",
        "    seed = seed + \"0\";\n",
        "    end = end + \"1\"\n",
        "  \n",
        "  state = seed\n",
        "  old_state = state\n",
        "  while state != end:\n",
        "    if len(result) != 0 :\n",
        "     for i in range(0,len(result)):\n",
        "      old_state = result[i]\n",
        "      for i in range(0,n):\n",
        "       if state[i] != \"1\":\n",
        "        state = old_state[:i] + \"1\" + old_state[i + 1:]\n",
        "        if state not in result:\n",
        "          result.append(state)\n",
        "   \n",
        "    for i in range(0,n):\n",
        "      if state[i] != \"1\":\n",
        "       state = old_state[:i] + \"1\" + old_state[i + 1:]\n",
        "       if state not in result:\n",
        "         result.append(state)\n",
        "\n",
        "  result.insert(0,seed);\n",
        "  return result;"
      ],
      "metadata": {
        "id": "AIuleqSmWc7X"
      },
      "execution_count": 14,
      "outputs": []
    },
    {
      "cell_type": "code",
      "source": [
        "def generate_hamming_code(codes):\n",
        "   array_zeros = np.zeros((len(codes), len(codes)));\n",
        "\n",
        "   for i in range(0,len(codes)):\n",
        "     for j in range(len(codes)-1, -1, -1):\n",
        "       array_zeros[i][j] = calc_diff(codes[i],codes[j]);\n",
        "   return array_zeros;"
      ],
      "metadata": {
        "id": "CuUvbEFDSJCR"
      },
      "execution_count": 15,
      "outputs": []
    },
    {
      "cell_type": "code",
      "source": [
        "def calc_diff(stp, stt):\n",
        " el = 0;\n",
        " for i in range(0,len(stp)):\n",
        "   if(stp[i] != stt[i]):\n",
        "     el = el + 1;   \n",
        " return el; "
      ],
      "metadata": {
        "id": "uf0RC1wuSLOf"
      },
      "execution_count": 16,
      "outputs": []
    },
    {
      "cell_type": "code",
      "source": [
        "def find_min_constrain(value, power):\n",
        "   if value <= np.power(2, power):\n",
        "     return power\n",
        "   return find_min_constrain(value, power + 1)  "
      ],
      "metadata": {
        "id": "3IMXxWbMll38"
      },
      "execution_count": 17,
      "outputs": []
    },
    {
      "cell_type": "code",
      "source": [
        "def state_generator(adjacency_graph):\n",
        "  binary_tuple_digits = find_min_constrain(adjacent_nodes.shape[0], 0);                          \n",
        "  hamming_distances = generate_hamming_code(list_binary_rep(binary_tuple_digits));\n",
        "  return (adjacent_nodes, binary_tuple_digits, hamming_distances)"
      ],
      "metadata": {
        "id": "CRC5CPNKlvJ0"
      },
      "execution_count": 18,
      "outputs": []
    },
    {
      "cell_type": "code",
      "source": [
        "def simulation(population, generations, generation_cutoff, adjacency_graph):\n",
        "  state_data = state_generator(adjacency_graph);\n",
        "  upper_limit = state_data[0].shape[0];\n",
        "  lower_limit = 1;\n",
        "  \n",
        "  model_params = []\n",
        "  gene_range = list(range(lower_limit, upper_limit))\n",
        "  results = []  \n",
        "  chromosomes = generate_population(population, state_data);\n",
        "\n",
        "  for i in range(10):\n",
        "    crossover_param = np.random.choice(gene_range);\n",
        "    mutation_param = np.random.choice(gene_range);\n",
        "    alive_param = np.random.choice(gene_range);\n",
        "    params = (population, generation_cutoff, crossover_param, mutation_param, alive_param);\n",
        "    model_params.append((params, state_data, chromosomes, True));\n",
        "  for model_param in model_params:\n",
        "    results.append(model(*model_param));\n",
        "  \n",
        "  \n",
        "  res_index = find_best_result(results)\n",
        "  params = (population, generations,  model_params[res_index][0][2],  model_params[res_index][0][3],  model_params[res_index][0][4]);\n",
        "\n",
        "  return model(params, state_data, results[res_index], False);"
      ],
      "metadata": {
        "id": "IGXyuZ4r6-1m"
      },
      "execution_count": 1,
      "outputs": []
    },
    {
      "cell_type": "code",
      "source": [
        "def find_best_result(results):\n",
        "  tests = []\n",
        "  for result in results:\n",
        "    opt_fitness = result[0][1];\n",
        "    curr_res = []\n",
        "    for i in range (len(result[0][0])):\n",
        "      if opt_fitness == result[i][1]:\n",
        "        curr_res.append(result[i])\n",
        "      else: \n",
        "        break;\n",
        "    new_res = set(tuple([tuple(i[0]), i[1] ]) for i in curr_res)\n",
        "    tests.append(new_res)\n",
        "  set_tuple = [];\n",
        "  for test in tests:\n",
        "   set_tuple.append(tuple(test));\n",
        "\n",
        "  set_tuple = [t1[0] for t1 in set_tuple]\n",
        "  for i in range(len(set_tuple)):\n",
        "    set_tuple[i] = (*set_tuple[i], i);\n",
        "  set_tuple.sort(key=lambda a: a[1]);\n",
        "  \n",
        "  return set_tuple[0][2];"
      ],
      "metadata": {
        "id": "gobAR1qss0g5"
      },
      "execution_count": 126,
      "outputs": []
    },
    {
      "cell_type": "code",
      "source": [
        "adjacent_nodes = np.array([[0, 1, 0, 1, 0, 0, 0, 1, 0],\n",
        "                             [0, 0, 1, 0, 1, 0, 0, 0, 0],\n",
        "                             [0, 0, 0, 1, 0, 1, 0, 0, 1],\n",
        "                             [1, 1, 0, 0, 0, 1, 1, 0, 0],\n",
        "                             [0, 1, 0, 0, 0, 0, 0, 1, 0],\n",
        "                             [0, 0, 1, 0, 0, 0, 1, 0, 1],\n",
        "                             [0, 1, 0, 0, 1, 1, 0, 1, 0],\n",
        "                             [1, 0, 0, 0, 0, 0, 0, 0, 1],\n",
        "                             [0, 0, 0, 1, 0, 0, 0, 0, 1]])"
      ],
      "metadata": {
        "id": "qqMRIeGV8o31"
      },
      "execution_count": 4,
      "outputs": []
    },
    {
      "cell_type": "code",
      "source": [
        "result = simulation(100, 1000, 200, adjacent_nodes);\n",
        "result_to_csv((result[0][0],adjacent_nodes));"
      ],
      "metadata": {
        "id": "jEI62slqbKDI"
      },
      "execution_count": null,
      "outputs": []
    },
    {
      "cell_type": "code",
      "source": [],
      "metadata": {
        "id": "WKKcsTa2bNyf"
      },
      "execution_count": null,
      "outputs": []
    }
  ]
}